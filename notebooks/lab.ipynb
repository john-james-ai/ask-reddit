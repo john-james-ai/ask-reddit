{
 "cells": [
  {
   "cell_type": "markdown",
   "id": "00d07c4f",
   "metadata": {},
   "source": [
    "# Lab"
   ]
  },
  {
   "cell_type": "code",
   "execution_count": 1,
   "id": "69886793",
   "metadata": {},
   "outputs": [],
   "source": [
    "from scraper.__main__ import ChunkSpan"
   ]
  },
  {
   "cell_type": "code",
   "execution_count": 9,
   "id": "162398dc",
   "metadata": {},
   "outputs": [
    {
     "name": "stdout",
     "output_type": "stream",
     "text": [
      "d\n",
      "DAY\n",
      "%Y-%m-%d\n"
     ]
    }
   ],
   "source": [
    "cs = ChunkSpan.from_value(value='d')\n",
    "print(cs.value)\n",
    "print(cs.name)\n",
    "print(cs.fmt)\n"
   ]
  }
 ],
 "metadata": {
  "kernelspec": {
   "display_name": "ask_reddit",
   "language": "python",
   "name": "python3"
  },
  "language_info": {
   "codemirror_mode": {
    "name": "ipython",
    "version": 3
   },
   "file_extension": ".py",
   "mimetype": "text/x-python",
   "name": "python",
   "nbconvert_exporter": "python",
   "pygments_lexer": "ipython3",
   "version": "3.13.5"
  }
 },
 "nbformat": 4,
 "nbformat_minor": 5
}
