{
 "cells": [
  {
   "cell_type": "markdown",
   "id": "00d07c4f",
   "metadata": {},
   "source": [
    "# Lab"
   ]
  },
  {
   "cell_type": "code",
   "execution_count": 1,
   "id": "69886793",
   "metadata": {},
   "outputs": [],
   "source": [
    "import logging\n",
    "from datetime import datetime\n",
    "from scraper.constants import BatchSpan\n",
    "from scraper.date import DateTime\n",
    "logger = logging.getLogger(__name__)"
   ]
  },
  {
   "cell_type": "code",
   "execution_count": 2,
   "id": "e67b578f",
   "metadata": {},
   "outputs": [
    {
     "name": "stdout",
     "output_type": "stream",
     "text": [
      "INFO:root:This is an info message.\n",
      "WARNING:root:This is a warning message.\n"
     ]
    }
   ],
   "source": [
    "import logging\n",
    "import sys\n",
    "\n",
    "# Configure logging to print to standard output\n",
    "logging.basicConfig(stream=sys.stdout, level=logging.INFO)\n",
    "\n",
    "# Example log messages\n",
    "logging.debug(\"This is a debug message.\") # Won't appear with level=INFO\n",
    "logging.info(\"This is an info message.\")\n",
    "logging.warning(\"This is a warning message.\")\n"
   ]
  },
  {
   "cell_type": "code",
   "execution_count": 3,
   "id": "162398dc",
   "metadata": {},
   "outputs": [
    {
     "name": "stdout",
     "output_type": "stream",
     "text": [
      "d\n",
      "DAY\n",
      "%Y-%m-%d\n"
     ]
    }
   ],
   "source": [
    "cs = BatchSpan.from_value(value='d')\n",
    "print(cs.value)\n",
    "print(cs.name)\n",
    "print(cs.fmt)\n"
   ]
  },
  {
   "cell_type": "code",
   "execution_count": 4,
   "id": "2a985dc7",
   "metadata": {},
   "outputs": [
    {
     "data": {
      "text/plain": [
       "442.0"
      ]
     },
     "execution_count": 4,
     "metadata": {},
     "output_type": "execute_result"
    }
   ],
   "source": [
    "start = datetime(2025, 6, 22)\n",
    "td = datetime.now() - start\n",
    "DateTime.get_minutes(td=td)"
   ]
  },
  {
   "cell_type": "markdown",
   "id": "fd37dbab",
   "metadata": {},
   "source": [
    "## CircuitBreaker"
   ]
  },
  {
   "cell_type": "code",
   "execution_count": 5,
   "id": "29cdd9a6",
   "metadata": {},
   "outputs": [],
   "source": [
    "from scraper.monitor import CircuitBreaker"
   ]
  },
  {
   "cell_type": "code",
   "execution_count": 6,
   "id": "7086f53e",
   "metadata": {},
   "outputs": [
    {
     "name": "stdout",
     "output_type": "stream",
     "text": [
      "INFO:root:Encountered a failure at {'Batch': 1, 'Submissions': 0, 'Comments': 0}\n",
      "INFO:root:Encountered a failure at {'Batch': 2, 'Submissions': 10, 'Comments': 100}\n",
      "INFO:root:Encountered a failure at {'Batch': 3, 'Submissions': 30, 'Comments': 300}\n",
      "INFO:root:Encountered a failure at {'Batch': 4, 'Submissions': 60, 'Comments': 600}\n",
      "INFO:root:Encountered a failure at {'Batch': 5, 'Submissions': 100, 'Comments': 1000}\n",
      "INFO:root:Encountered a failure at {'Batch': 6, 'Submissions': 150, 'Comments': 1500}\n",
      "INFO:scraper.monitor:Exceeded failure threshold of 5 failures. Opening the circuit.\n"
     ]
    }
   ],
   "source": [
    "batch = 0\n",
    "submissions = 0\n",
    "comments = 0\n",
    "context = {}\n",
    "cb = CircuitBreaker()\n",
    "for i in range(6):\n",
    "    batch += 1\n",
    "    submissions += i*10\n",
    "    comments += i*100\n",
    "    context = {\"Batch\": batch, \"Submissions\": submissions, \"Comments\": comments}\n",
    "    cb.failure(context=context)"
   ]
  },
  {
   "cell_type": "code",
   "execution_count": 7,
   "id": "8f63ac78",
   "metadata": {},
   "outputs": [
    {
     "name": "stdout",
     "output_type": "stream",
     "text": [
      "INFO:root:Encountered a failure at {'Batch': 6, 'Submissions': 150, 'Comments': 1500}\n",
      "INFO:scraper.monitor:Changing the circuit from Open to Half-Open state.\n"
     ]
    }
   ],
   "source": [
    "cb.failure(context=context)"
   ]
  },
  {
   "cell_type": "code",
   "execution_count": 8,
   "id": "985396ca",
   "metadata": {},
   "outputs": [],
   "source": [
    "cb.success()"
   ]
  },
  {
   "cell_type": "code",
   "execution_count": 9,
   "id": "d5f6b8de",
   "metadata": {},
   "outputs": [
    {
     "name": "stdout",
     "output_type": "stream",
     "text": [
      "INFO:scraper.monitor:Encountered 4 successes in a row. Closing circuit.\n"
     ]
    }
   ],
   "source": [
    "cb.success()\n",
    "cb.success()\n",
    "cb.success()\n",
    "cb.success()\n",
    "cb.success()"
   ]
  }
 ],
 "metadata": {
  "kernelspec": {
   "display_name": "ask_reddit",
   "language": "python",
   "name": "python3"
  },
  "language_info": {
   "codemirror_mode": {
    "name": "ipython",
    "version": 3
   },
   "file_extension": ".py",
   "mimetype": "text/x-python",
   "name": "python",
   "nbconvert_exporter": "python",
   "pygments_lexer": "ipython3",
   "version": "3.13.5"
  }
 },
 "nbformat": 4,
 "nbformat_minor": 5
}
